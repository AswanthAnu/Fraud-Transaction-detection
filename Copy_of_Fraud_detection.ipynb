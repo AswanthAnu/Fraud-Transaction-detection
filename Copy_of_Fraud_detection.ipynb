{
  "nbformat": 4,
  "nbformat_minor": 0,
  "metadata": {
    "colab": {
      "provenance": [],
      "include_colab_link": true
    },
    "kernelspec": {
      "name": "python3",
      "display_name": "Python 3"
    },
    "language_info": {
      "name": "python"
    },
    "gpuClass": "standard"
  },
  "cells": [
    {
      "cell_type": "markdown",
      "metadata": {
        "id": "view-in-github",
        "colab_type": "text"
      },
      "source": [
        "<a href=\"https://colab.research.google.com/github/AswanthAnu/Fraud-Transaction-detection/blob/main/Copy_of_Fraud_detection.ipynb\" target=\"_parent\"><img src=\"https://colab.research.google.com/assets/colab-badge.svg\" alt=\"Open In Colab\"/></a>"
      ]
    },
    {
      "cell_type": "markdown",
      "source": [
        " ## Predicting fraudulent transactions in Financial Data"
      ],
      "metadata": {
        "id": "d5xgfvlfDyje"
      }
    },
    {
      "cell_type": "code",
      "source": [
        "import tensorflow as tf"
      ],
      "metadata": {
        "id": "bcVCRcXdaOEM"
      },
      "execution_count": null,
      "outputs": []
    },
    {
      "cell_type": "code",
      "execution_count": null,
      "metadata": {
        "id": "hzz3sUKsDGN5"
      },
      "outputs": [],
      "source": [
        "# importing dependencies\n",
        "import pandas as pd\n",
        "import numpy as np\n",
        "import matplotlib.pyplot as plt\n",
        "import seaborn as sns"
      ]
    },
    {
      "cell_type": "code",
      "source": [
        "import warnings\n",
        "warnings.filterwarnings('ignore')"
      ],
      "metadata": {
        "id": "8Sa-dKzYFUC6"
      },
      "execution_count": null,
      "outputs": []
    },
    {
      "cell_type": "markdown",
      "source": [
        "**Loading the dataset**"
      ],
      "metadata": {
        "id": "fJJBcP6EFlIc"
      }
    },
    {
      "cell_type": "code",
      "source": [
        "# Mount Google Drive\n",
        "from google.colab import drive\n",
        "drive.mount('/content/drive')\n",
        "\n",
        "# Access data in Google Drive\n",
        "data_path = \"/content/drive/MyDrive/Colab Notebooks/Fraud/Fraud.csv\""
      ],
      "metadata": {
        "colab": {
          "base_uri": "https://localhost:8080/"
        },
        "id": "MAVghGk8U0uc",
        "outputId": "69100d8c-d3f2-4c95-823e-eba941245793"
      },
      "execution_count": null,
      "outputs": [
        {
          "output_type": "stream",
          "name": "stdout",
          "text": [
            "Mounted at /content/drive\n"
          ]
        }
      ]
    },
    {
      "cell_type": "code",
      "source": [
        "# creating dataframe\n",
        "df = pd.read_csv(data_path)"
      ],
      "metadata": {
        "id": "T9JvnbfTFfb-"
      },
      "execution_count": null,
      "outputs": []
    },
    {
      "cell_type": "markdown",
      "source": [
        "##Exploritory Data Analysis"
      ],
      "metadata": {
        "id": "08Ql0oMfGuTx"
      }
    },
    {
      "cell_type": "code",
      "source": [
        "# Printing first five entries\n",
        "df.head()"
      ],
      "metadata": {
        "colab": {
          "base_uri": "https://localhost:8080/",
          "height": 206
        },
        "id": "1cwGT3H8F4aG",
        "outputId": "23ec0192-b38a-4e35-f58b-e2b9ae79d9bc"
      },
      "execution_count": null,
      "outputs": [
        {
          "output_type": "execute_result",
          "data": {
            "text/plain": [
              "   step      type    amount     nameOrig  oldbalanceOrg  newbalanceOrig  \\\n",
              "0     1   PAYMENT   9839.64  C1231006815       170136.0       160296.36   \n",
              "1     1   PAYMENT   1864.28  C1666544295        21249.0        19384.72   \n",
              "2     1  TRANSFER    181.00  C1305486145          181.0            0.00   \n",
              "3     1  CASH_OUT    181.00   C840083671          181.0            0.00   \n",
              "4     1   PAYMENT  11668.14  C2048537720        41554.0        29885.86   \n",
              "\n",
              "      nameDest  oldbalanceDest  newbalanceDest  isFraud  isFlaggedFraud  \n",
              "0  M1979787155             0.0             0.0        0               0  \n",
              "1  M2044282225             0.0             0.0        0               0  \n",
              "2   C553264065             0.0             0.0        1               0  \n",
              "3    C38997010         21182.0             0.0        1               0  \n",
              "4  M1230701703             0.0             0.0        0               0  "
            ],
            "text/html": [
              "\n",
              "  <div id=\"df-03e7c40a-c63c-4a75-a43d-a13bb2a0277c\">\n",
              "    <div class=\"colab-df-container\">\n",
              "      <div>\n",
              "<style scoped>\n",
              "    .dataframe tbody tr th:only-of-type {\n",
              "        vertical-align: middle;\n",
              "    }\n",
              "\n",
              "    .dataframe tbody tr th {\n",
              "        vertical-align: top;\n",
              "    }\n",
              "\n",
              "    .dataframe thead th {\n",
              "        text-align: right;\n",
              "    }\n",
              "</style>\n",
              "<table border=\"1\" class=\"dataframe\">\n",
              "  <thead>\n",
              "    <tr style=\"text-align: right;\">\n",
              "      <th></th>\n",
              "      <th>step</th>\n",
              "      <th>type</th>\n",
              "      <th>amount</th>\n",
              "      <th>nameOrig</th>\n",
              "      <th>oldbalanceOrg</th>\n",
              "      <th>newbalanceOrig</th>\n",
              "      <th>nameDest</th>\n",
              "      <th>oldbalanceDest</th>\n",
              "      <th>newbalanceDest</th>\n",
              "      <th>isFraud</th>\n",
              "      <th>isFlaggedFraud</th>\n",
              "    </tr>\n",
              "  </thead>\n",
              "  <tbody>\n",
              "    <tr>\n",
              "      <th>0</th>\n",
              "      <td>1</td>\n",
              "      <td>PAYMENT</td>\n",
              "      <td>9839.64</td>\n",
              "      <td>C1231006815</td>\n",
              "      <td>170136.0</td>\n",
              "      <td>160296.36</td>\n",
              "      <td>M1979787155</td>\n",
              "      <td>0.0</td>\n",
              "      <td>0.0</td>\n",
              "      <td>0</td>\n",
              "      <td>0</td>\n",
              "    </tr>\n",
              "    <tr>\n",
              "      <th>1</th>\n",
              "      <td>1</td>\n",
              "      <td>PAYMENT</td>\n",
              "      <td>1864.28</td>\n",
              "      <td>C1666544295</td>\n",
              "      <td>21249.0</td>\n",
              "      <td>19384.72</td>\n",
              "      <td>M2044282225</td>\n",
              "      <td>0.0</td>\n",
              "      <td>0.0</td>\n",
              "      <td>0</td>\n",
              "      <td>0</td>\n",
              "    </tr>\n",
              "    <tr>\n",
              "      <th>2</th>\n",
              "      <td>1</td>\n",
              "      <td>TRANSFER</td>\n",
              "      <td>181.00</td>\n",
              "      <td>C1305486145</td>\n",
              "      <td>181.0</td>\n",
              "      <td>0.00</td>\n",
              "      <td>C553264065</td>\n",
              "      <td>0.0</td>\n",
              "      <td>0.0</td>\n",
              "      <td>1</td>\n",
              "      <td>0</td>\n",
              "    </tr>\n",
              "    <tr>\n",
              "      <th>3</th>\n",
              "      <td>1</td>\n",
              "      <td>CASH_OUT</td>\n",
              "      <td>181.00</td>\n",
              "      <td>C840083671</td>\n",
              "      <td>181.0</td>\n",
              "      <td>0.00</td>\n",
              "      <td>C38997010</td>\n",
              "      <td>21182.0</td>\n",
              "      <td>0.0</td>\n",
              "      <td>1</td>\n",
              "      <td>0</td>\n",
              "    </tr>\n",
              "    <tr>\n",
              "      <th>4</th>\n",
              "      <td>1</td>\n",
              "      <td>PAYMENT</td>\n",
              "      <td>11668.14</td>\n",
              "      <td>C2048537720</td>\n",
              "      <td>41554.0</td>\n",
              "      <td>29885.86</td>\n",
              "      <td>M1230701703</td>\n",
              "      <td>0.0</td>\n",
              "      <td>0.0</td>\n",
              "      <td>0</td>\n",
              "      <td>0</td>\n",
              "    </tr>\n",
              "  </tbody>\n",
              "</table>\n",
              "</div>\n",
              "      <button class=\"colab-df-convert\" onclick=\"convertToInteractive('df-03e7c40a-c63c-4a75-a43d-a13bb2a0277c')\"\n",
              "              title=\"Convert this dataframe to an interactive table.\"\n",
              "              style=\"display:none;\">\n",
              "        \n",
              "  <svg xmlns=\"http://www.w3.org/2000/svg\" height=\"24px\"viewBox=\"0 0 24 24\"\n",
              "       width=\"24px\">\n",
              "    <path d=\"M0 0h24v24H0V0z\" fill=\"none\"/>\n",
              "    <path d=\"M18.56 5.44l.94 2.06.94-2.06 2.06-.94-2.06-.94-.94-2.06-.94 2.06-2.06.94zm-11 1L8.5 8.5l.94-2.06 2.06-.94-2.06-.94L8.5 2.5l-.94 2.06-2.06.94zm10 10l.94 2.06.94-2.06 2.06-.94-2.06-.94-.94-2.06-.94 2.06-2.06.94z\"/><path d=\"M17.41 7.96l-1.37-1.37c-.4-.4-.92-.59-1.43-.59-.52 0-1.04.2-1.43.59L10.3 9.45l-7.72 7.72c-.78.78-.78 2.05 0 2.83L4 21.41c.39.39.9.59 1.41.59.51 0 1.02-.2 1.41-.59l7.78-7.78 2.81-2.81c.8-.78.8-2.07 0-2.86zM5.41 20L4 18.59l7.72-7.72 1.47 1.35L5.41 20z\"/>\n",
              "  </svg>\n",
              "      </button>\n",
              "      \n",
              "  <style>\n",
              "    .colab-df-container {\n",
              "      display:flex;\n",
              "      flex-wrap:wrap;\n",
              "      gap: 12px;\n",
              "    }\n",
              "\n",
              "    .colab-df-convert {\n",
              "      background-color: #E8F0FE;\n",
              "      border: none;\n",
              "      border-radius: 50%;\n",
              "      cursor: pointer;\n",
              "      display: none;\n",
              "      fill: #1967D2;\n",
              "      height: 32px;\n",
              "      padding: 0 0 0 0;\n",
              "      width: 32px;\n",
              "    }\n",
              "\n",
              "    .colab-df-convert:hover {\n",
              "      background-color: #E2EBFA;\n",
              "      box-shadow: 0px 1px 2px rgba(60, 64, 67, 0.3), 0px 1px 3px 1px rgba(60, 64, 67, 0.15);\n",
              "      fill: #174EA6;\n",
              "    }\n",
              "\n",
              "    [theme=dark] .colab-df-convert {\n",
              "      background-color: #3B4455;\n",
              "      fill: #D2E3FC;\n",
              "    }\n",
              "\n",
              "    [theme=dark] .colab-df-convert:hover {\n",
              "      background-color: #434B5C;\n",
              "      box-shadow: 0px 1px 3px 1px rgba(0, 0, 0, 0.15);\n",
              "      filter: drop-shadow(0px 1px 2px rgba(0, 0, 0, 0.3));\n",
              "      fill: #FFFFFF;\n",
              "    }\n",
              "  </style>\n",
              "\n",
              "      <script>\n",
              "        const buttonEl =\n",
              "          document.querySelector('#df-03e7c40a-c63c-4a75-a43d-a13bb2a0277c button.colab-df-convert');\n",
              "        buttonEl.style.display =\n",
              "          google.colab.kernel.accessAllowed ? 'block' : 'none';\n",
              "\n",
              "        async function convertToInteractive(key) {\n",
              "          const element = document.querySelector('#df-03e7c40a-c63c-4a75-a43d-a13bb2a0277c');\n",
              "          const dataTable =\n",
              "            await google.colab.kernel.invokeFunction('convertToInteractive',\n",
              "                                                     [key], {});\n",
              "          if (!dataTable) return;\n",
              "\n",
              "          const docLinkHtml = 'Like what you see? Visit the ' +\n",
              "            '<a target=\"_blank\" href=https://colab.research.google.com/notebooks/data_table.ipynb>data table notebook</a>'\n",
              "            + ' to learn more about interactive tables.';\n",
              "          element.innerHTML = '';\n",
              "          dataTable['output_type'] = 'display_data';\n",
              "          await google.colab.output.renderOutput(dataTable, element);\n",
              "          const docLink = document.createElement('div');\n",
              "          docLink.innerHTML = docLinkHtml;\n",
              "          element.appendChild(docLink);\n",
              "        }\n",
              "      </script>\n",
              "    </div>\n",
              "  </div>\n",
              "  "
            ]
          },
          "metadata": {},
          "execution_count": 8
        }
      ]
    },
    {
      "cell_type": "code",
      "source": [
        "# shape of the dataset\n",
        "df.shape"
      ],
      "metadata": {
        "id": "YwhhWvTCN02w",
        "outputId": "54fcad3b-ef0f-4ae7-dbed-bd6aa102dcb5",
        "colab": {
          "base_uri": "https://localhost:8080/"
        }
      },
      "execution_count": null,
      "outputs": [
        {
          "output_type": "execute_result",
          "data": {
            "text/plain": [
              "(6362620, 11)"
            ]
          },
          "metadata": {},
          "execution_count": 9
        }
      ]
    },
    {
      "cell_type": "code",
      "source": [
        "# Statistical summary\n",
        "df.describe()"
      ],
      "metadata": {
        "colab": {
          "base_uri": "https://localhost:8080/",
          "height": 300
        },
        "id": "O9jSUzmNGLNl",
        "outputId": "a1a22912-611a-4cf1-e804-de2515f9cd0a"
      },
      "execution_count": null,
      "outputs": [
        {
          "output_type": "execute_result",
          "data": {
            "text/plain": [
              "               step        amount  oldbalanceOrg  newbalanceOrig  \\\n",
              "count  6.362620e+06  6.362620e+06   6.362620e+06    6.362620e+06   \n",
              "mean   2.433972e+02  1.798619e+05   8.338831e+05    8.551137e+05   \n",
              "std    1.423320e+02  6.038582e+05   2.888243e+06    2.924049e+06   \n",
              "min    1.000000e+00  0.000000e+00   0.000000e+00    0.000000e+00   \n",
              "25%    1.560000e+02  1.338957e+04   0.000000e+00    0.000000e+00   \n",
              "50%    2.390000e+02  7.487194e+04   1.420800e+04    0.000000e+00   \n",
              "75%    3.350000e+02  2.087215e+05   1.073152e+05    1.442584e+05   \n",
              "max    7.430000e+02  9.244552e+07   5.958504e+07    4.958504e+07   \n",
              "\n",
              "       oldbalanceDest  newbalanceDest       isFraud  isFlaggedFraud  \n",
              "count    6.362620e+06    6.362620e+06  6.362620e+06    6.362620e+06  \n",
              "mean     1.100702e+06    1.224996e+06  1.290820e-03    2.514687e-06  \n",
              "std      3.399180e+06    3.674129e+06  3.590480e-02    1.585775e-03  \n",
              "min      0.000000e+00    0.000000e+00  0.000000e+00    0.000000e+00  \n",
              "25%      0.000000e+00    0.000000e+00  0.000000e+00    0.000000e+00  \n",
              "50%      1.327057e+05    2.146614e+05  0.000000e+00    0.000000e+00  \n",
              "75%      9.430367e+05    1.111909e+06  0.000000e+00    0.000000e+00  \n",
              "max      3.560159e+08    3.561793e+08  1.000000e+00    1.000000e+00  "
            ],
            "text/html": [
              "\n",
              "  <div id=\"df-18893366-98d4-479d-a0f2-46692694671b\">\n",
              "    <div class=\"colab-df-container\">\n",
              "      <div>\n",
              "<style scoped>\n",
              "    .dataframe tbody tr th:only-of-type {\n",
              "        vertical-align: middle;\n",
              "    }\n",
              "\n",
              "    .dataframe tbody tr th {\n",
              "        vertical-align: top;\n",
              "    }\n",
              "\n",
              "    .dataframe thead th {\n",
              "        text-align: right;\n",
              "    }\n",
              "</style>\n",
              "<table border=\"1\" class=\"dataframe\">\n",
              "  <thead>\n",
              "    <tr style=\"text-align: right;\">\n",
              "      <th></th>\n",
              "      <th>step</th>\n",
              "      <th>amount</th>\n",
              "      <th>oldbalanceOrg</th>\n",
              "      <th>newbalanceOrig</th>\n",
              "      <th>oldbalanceDest</th>\n",
              "      <th>newbalanceDest</th>\n",
              "      <th>isFraud</th>\n",
              "      <th>isFlaggedFraud</th>\n",
              "    </tr>\n",
              "  </thead>\n",
              "  <tbody>\n",
              "    <tr>\n",
              "      <th>count</th>\n",
              "      <td>6.362620e+06</td>\n",
              "      <td>6.362620e+06</td>\n",
              "      <td>6.362620e+06</td>\n",
              "      <td>6.362620e+06</td>\n",
              "      <td>6.362620e+06</td>\n",
              "      <td>6.362620e+06</td>\n",
              "      <td>6.362620e+06</td>\n",
              "      <td>6.362620e+06</td>\n",
              "    </tr>\n",
              "    <tr>\n",
              "      <th>mean</th>\n",
              "      <td>2.433972e+02</td>\n",
              "      <td>1.798619e+05</td>\n",
              "      <td>8.338831e+05</td>\n",
              "      <td>8.551137e+05</td>\n",
              "      <td>1.100702e+06</td>\n",
              "      <td>1.224996e+06</td>\n",
              "      <td>1.290820e-03</td>\n",
              "      <td>2.514687e-06</td>\n",
              "    </tr>\n",
              "    <tr>\n",
              "      <th>std</th>\n",
              "      <td>1.423320e+02</td>\n",
              "      <td>6.038582e+05</td>\n",
              "      <td>2.888243e+06</td>\n",
              "      <td>2.924049e+06</td>\n",
              "      <td>3.399180e+06</td>\n",
              "      <td>3.674129e+06</td>\n",
              "      <td>3.590480e-02</td>\n",
              "      <td>1.585775e-03</td>\n",
              "    </tr>\n",
              "    <tr>\n",
              "      <th>min</th>\n",
              "      <td>1.000000e+00</td>\n",
              "      <td>0.000000e+00</td>\n",
              "      <td>0.000000e+00</td>\n",
              "      <td>0.000000e+00</td>\n",
              "      <td>0.000000e+00</td>\n",
              "      <td>0.000000e+00</td>\n",
              "      <td>0.000000e+00</td>\n",
              "      <td>0.000000e+00</td>\n",
              "    </tr>\n",
              "    <tr>\n",
              "      <th>25%</th>\n",
              "      <td>1.560000e+02</td>\n",
              "      <td>1.338957e+04</td>\n",
              "      <td>0.000000e+00</td>\n",
              "      <td>0.000000e+00</td>\n",
              "      <td>0.000000e+00</td>\n",
              "      <td>0.000000e+00</td>\n",
              "      <td>0.000000e+00</td>\n",
              "      <td>0.000000e+00</td>\n",
              "    </tr>\n",
              "    <tr>\n",
              "      <th>50%</th>\n",
              "      <td>2.390000e+02</td>\n",
              "      <td>7.487194e+04</td>\n",
              "      <td>1.420800e+04</td>\n",
              "      <td>0.000000e+00</td>\n",
              "      <td>1.327057e+05</td>\n",
              "      <td>2.146614e+05</td>\n",
              "      <td>0.000000e+00</td>\n",
              "      <td>0.000000e+00</td>\n",
              "    </tr>\n",
              "    <tr>\n",
              "      <th>75%</th>\n",
              "      <td>3.350000e+02</td>\n",
              "      <td>2.087215e+05</td>\n",
              "      <td>1.073152e+05</td>\n",
              "      <td>1.442584e+05</td>\n",
              "      <td>9.430367e+05</td>\n",
              "      <td>1.111909e+06</td>\n",
              "      <td>0.000000e+00</td>\n",
              "      <td>0.000000e+00</td>\n",
              "    </tr>\n",
              "    <tr>\n",
              "      <th>max</th>\n",
              "      <td>7.430000e+02</td>\n",
              "      <td>9.244552e+07</td>\n",
              "      <td>5.958504e+07</td>\n",
              "      <td>4.958504e+07</td>\n",
              "      <td>3.560159e+08</td>\n",
              "      <td>3.561793e+08</td>\n",
              "      <td>1.000000e+00</td>\n",
              "      <td>1.000000e+00</td>\n",
              "    </tr>\n",
              "  </tbody>\n",
              "</table>\n",
              "</div>\n",
              "      <button class=\"colab-df-convert\" onclick=\"convertToInteractive('df-18893366-98d4-479d-a0f2-46692694671b')\"\n",
              "              title=\"Convert this dataframe to an interactive table.\"\n",
              "              style=\"display:none;\">\n",
              "        \n",
              "  <svg xmlns=\"http://www.w3.org/2000/svg\" height=\"24px\"viewBox=\"0 0 24 24\"\n",
              "       width=\"24px\">\n",
              "    <path d=\"M0 0h24v24H0V0z\" fill=\"none\"/>\n",
              "    <path d=\"M18.56 5.44l.94 2.06.94-2.06 2.06-.94-2.06-.94-.94-2.06-.94 2.06-2.06.94zm-11 1L8.5 8.5l.94-2.06 2.06-.94-2.06-.94L8.5 2.5l-.94 2.06-2.06.94zm10 10l.94 2.06.94-2.06 2.06-.94-2.06-.94-.94-2.06-.94 2.06-2.06.94z\"/><path d=\"M17.41 7.96l-1.37-1.37c-.4-.4-.92-.59-1.43-.59-.52 0-1.04.2-1.43.59L10.3 9.45l-7.72 7.72c-.78.78-.78 2.05 0 2.83L4 21.41c.39.39.9.59 1.41.59.51 0 1.02-.2 1.41-.59l7.78-7.78 2.81-2.81c.8-.78.8-2.07 0-2.86zM5.41 20L4 18.59l7.72-7.72 1.47 1.35L5.41 20z\"/>\n",
              "  </svg>\n",
              "      </button>\n",
              "      \n",
              "  <style>\n",
              "    .colab-df-container {\n",
              "      display:flex;\n",
              "      flex-wrap:wrap;\n",
              "      gap: 12px;\n",
              "    }\n",
              "\n",
              "    .colab-df-convert {\n",
              "      background-color: #E8F0FE;\n",
              "      border: none;\n",
              "      border-radius: 50%;\n",
              "      cursor: pointer;\n",
              "      display: none;\n",
              "      fill: #1967D2;\n",
              "      height: 32px;\n",
              "      padding: 0 0 0 0;\n",
              "      width: 32px;\n",
              "    }\n",
              "\n",
              "    .colab-df-convert:hover {\n",
              "      background-color: #E2EBFA;\n",
              "      box-shadow: 0px 1px 2px rgba(60, 64, 67, 0.3), 0px 1px 3px 1px rgba(60, 64, 67, 0.15);\n",
              "      fill: #174EA6;\n",
              "    }\n",
              "\n",
              "    [theme=dark] .colab-df-convert {\n",
              "      background-color: #3B4455;\n",
              "      fill: #D2E3FC;\n",
              "    }\n",
              "\n",
              "    [theme=dark] .colab-df-convert:hover {\n",
              "      background-color: #434B5C;\n",
              "      box-shadow: 0px 1px 3px 1px rgba(0, 0, 0, 0.15);\n",
              "      filter: drop-shadow(0px 1px 2px rgba(0, 0, 0, 0.3));\n",
              "      fill: #FFFFFF;\n",
              "    }\n",
              "  </style>\n",
              "\n",
              "      <script>\n",
              "        const buttonEl =\n",
              "          document.querySelector('#df-18893366-98d4-479d-a0f2-46692694671b button.colab-df-convert');\n",
              "        buttonEl.style.display =\n",
              "          google.colab.kernel.accessAllowed ? 'block' : 'none';\n",
              "\n",
              "        async function convertToInteractive(key) {\n",
              "          const element = document.querySelector('#df-18893366-98d4-479d-a0f2-46692694671b');\n",
              "          const dataTable =\n",
              "            await google.colab.kernel.invokeFunction('convertToInteractive',\n",
              "                                                     [key], {});\n",
              "          if (!dataTable) return;\n",
              "\n",
              "          const docLinkHtml = 'Like what you see? Visit the ' +\n",
              "            '<a target=\"_blank\" href=https://colab.research.google.com/notebooks/data_table.ipynb>data table notebook</a>'\n",
              "            + ' to learn more about interactive tables.';\n",
              "          element.innerHTML = '';\n",
              "          dataTable['output_type'] = 'display_data';\n",
              "          await google.colab.output.renderOutput(dataTable, element);\n",
              "          const docLink = document.createElement('div');\n",
              "          docLink.innerHTML = docLinkHtml;\n",
              "          element.appendChild(docLink);\n",
              "        }\n",
              "      </script>\n",
              "    </div>\n",
              "  </div>\n",
              "  "
            ]
          },
          "metadata": {},
          "execution_count": 10
        }
      ]
    },
    {
      "cell_type": "code",
      "source": [
        "# information about columns and datatypes\n",
        "df.info()"
      ],
      "metadata": {
        "id": "P-JtXvZsHH1o",
        "colab": {
          "base_uri": "https://localhost:8080/"
        },
        "outputId": "4363f3ea-ae4e-4d2b-e036-5f1f83e87e7f"
      },
      "execution_count": null,
      "outputs": [
        {
          "output_type": "stream",
          "name": "stdout",
          "text": [
            "<class 'pandas.core.frame.DataFrame'>\n",
            "RangeIndex: 6362620 entries, 0 to 6362619\n",
            "Data columns (total 11 columns):\n",
            " #   Column          Dtype  \n",
            "---  ------          -----  \n",
            " 0   step            int64  \n",
            " 1   type            object \n",
            " 2   amount          float64\n",
            " 3   nameOrig        object \n",
            " 4   oldbalanceOrg   float64\n",
            " 5   newbalanceOrig  float64\n",
            " 6   nameDest        object \n",
            " 7   oldbalanceDest  float64\n",
            " 8   newbalanceDest  float64\n",
            " 9   isFraud         int64  \n",
            " 10  isFlaggedFraud  int64  \n",
            "dtypes: float64(5), int64(3), object(3)\n",
            "memory usage: 534.0+ MB\n"
          ]
        }
      ]
    },
    {
      "cell_type": "code",
      "source": [
        "# Finding if there any missing values\n",
        "df.isna().sum().sum()"
      ],
      "metadata": {
        "id": "l_vk22VOWQCD",
        "colab": {
          "base_uri": "https://localhost:8080/"
        },
        "outputId": "c69cf80b-b8d4-4713-882b-1a21e679a582"
      },
      "execution_count": null,
      "outputs": [
        {
          "output_type": "execute_result",
          "data": {
            "text/plain": [
              "0"
            ]
          },
          "metadata": {},
          "execution_count": 12
        }
      ]
    },
    {
      "cell_type": "markdown",
      "source": [
        "#### Initial summary\n",
        "\n",
        "- There are around 6 million entries.\n",
        "- Containing 11 variables.\n",
        "- There is no missing values. So no imputation is needed.\n",
        "- Most transaction in the dataset are of valid ones. The dataset is imbalanced. Non-parametric machine learning models may be preferred.\n",
        "- The first entry involved a payment of 9839.64 before payment and after it was zero. There are many entries with the recipient account oldbalanceDest and newbalanceDest are not make sense."
      ],
      "metadata": {
        "id": "WgxToACKXypX"
      }
    },
    {
      "cell_type": "code",
      "source": [
        "# Creating a copy of the dataset.\n",
        "df_fraud = df.copy()"
      ],
      "metadata": {
        "id": "dml0lhe3UioO"
      },
      "execution_count": null,
      "outputs": []
    },
    {
      "cell_type": "markdown",
      "source": [
        "#### Univariate Analysis"
      ],
      "metadata": {
        "id": "ufjZ286LT7y0"
      }
    },
    {
      "cell_type": "code",
      "source": [
        "# Looking at the \"isFraud\" columns\n",
        "sns.countplot(x='isFraud', data=df_fraud)"
      ],
      "metadata": {
        "id": "OBddFBs9Xl2_",
        "colab": {
          "base_uri": "https://localhost:8080/",
          "height": 307
        },
        "outputId": "45e04654-f505-440d-d8a2-3ec222442f0f"
      },
      "execution_count": null,
      "outputs": [
        {
          "output_type": "execute_result",
          "data": {
            "text/plain": [
              "<matplotlib.axes._subplots.AxesSubplot at 0x7f91160251c0>"
            ]
          },
          "metadata": {},
          "execution_count": 14
        },
        {
          "output_type": "display_data",
          "data": {
            "text/plain": [
              "<Figure size 432x288 with 1 Axes>"
            ],
            "image/png": "[encoded data removed]"
          },
          "metadata": {
            "needs_background": "light"
          }
        }
      ]
    },
    {
      "cell_type": "code",
      "source": [
        "# value count of isFraud varible\n",
        "df_fraud.isFraud.value_counts()"
      ],
      "metadata": {
        "colab": {
          "base_uri": "https://localhost:8080/"
        },
        "id": "cPB_diPGVarg",
        "outputId": "e6139931-b2e5-4619-a42e-407d5946ca76"
      },
      "execution_count": null,
      "outputs": [
        {
          "output_type": "execute_result",
          "data": {
            "text/plain": [
              "0    6354407\n",
              "1       8213\n",
              "Name: isFraud, dtype: int64"
            ]
          },
          "metadata": {},
          "execution_count": 15
        }
      ]
    },
    {
      "cell_type": "code",
      "source": [
        "# value count of isFlaggedFraud varible\n",
        "df_fraud.isFlaggedFraud.value_counts()"
      ],
      "metadata": {
        "colab": {
          "base_uri": "https://localhost:8080/"
        },
        "id": "4But58xyWP7s",
        "outputId": "b3f8c3d4-aadb-46c2-d114-0e109e0bf5eb"
      },
      "execution_count": null,
      "outputs": [
        {
          "output_type": "execute_result",
          "data": {
            "text/plain": [
              "0    6362604\n",
              "1         16\n",
              "Name: isFlaggedFraud, dtype: int64"
            ]
          },
          "metadata": {},
          "execution_count": 16
        }
      ]
    },
    {
      "cell_type": "markdown",
      "source": [
        "**Insights from isFraud**\n",
        "- As expected the dataset is highly imbalanced\n",
        "- From the 6 million records only 8213 are of fraudulent.\n",
        "- Any patterns related to identifying fraud transactions may be hard to see."
      ],
      "metadata": {
        "id": "jcSuvkvaWtBj"
      }
    },
    {
      "cell_type": "code",
      "source": [
        "# Subsetting the data into fraud and valid transaction\n",
        "fraud = df_fraud[df_fraud['isFraud'] == 1]\n",
        "valid = df_fraud[df_fraud['isFraud'] == 0]"
      ],
      "metadata": {
        "id": "MdDqMj2eWnEM"
      },
      "execution_count": null,
      "outputs": []
    },
    {
      "cell_type": "code",
      "source": [
        "# Looking at the Type of transaction\n",
        "fig, axs = plt.subplots(1, 2, figsize=(10, 4))\n",
        "\n",
        "# plot of fraud \n",
        "sns.countplot(x='type', data=fraud, ax=axs[0])\n",
        "axs[0].set_title('Type of transaction in fraud')\n",
        "\n",
        "# plot of fraud \n",
        "sns.countplot(x='type', data=valid, ax=axs[1])\n",
        "axs[1].set_title('Type of transaction in valid')\n"
      ],
      "metadata": {
        "colab": {
          "base_uri": "https://localhost:8080/",
          "height": 313
        },
        "id": "wiLpHInQY0wu",
        "outputId": "862429c4-2867-443b-e14d-559208ae178d"
      },
      "execution_count": null,
      "outputs": [
        {
          "output_type": "execute_result",
          "data": {
            "text/plain": [
              "Text(0.5, 1.0, 'Type of transaction in valid')"
            ]
          },
          "metadata": {},
          "execution_count": 18
        },
        {
          "output_type": "display_data",
          "data": {
            "text/plain": [
              "<Figure size 720x288 with 2 Axes>"
            ],
            "image/png": "[encoded data removed]"
          },
          "metadata": {
            "needs_background": "light"
          }
        }
      ]
    },
    {
      "cell_type": "markdown",
      "source": [
        "**Insights from transaction type**\n",
        "- Iam assuming that the fraud transactions only occur when the transaction type is TRANSFER or CASH_OUT."
      ],
      "metadata": {
        "id": "rDJyMx5KdC8r"
      }
    },
    {
      "cell_type": "code",
      "source": [
        "# Looking at the amount of transaction\n",
        "# How different are the amount of money used in different transaction classes?\n",
        "\n",
        "print(\"Fraud transaction \\n\",fraud.amount.describe())\n",
        "print('-----------------------------')\n",
        "print(\"Valid transaction \\n\", valid.amount.describe())"
      ],
      "metadata": {
        "colab": {
          "base_uri": "https://localhost:8080/"
        },
        "id": "bBIHBtwWZY7B",
        "outputId": "a9db53a0-d208-4804-ee93-cb8f68369b72"
      },
      "execution_count": null,
      "outputs": [
        {
          "output_type": "stream",
          "name": "stdout",
          "text": [
            "Fraud transaction \n",
            " count    8.213000e+03\n",
            "mean     1.467967e+06\n",
            "std      2.404253e+06\n",
            "min      0.000000e+00\n",
            "25%      1.270913e+05\n",
            "50%      4.414234e+05\n",
            "75%      1.517771e+06\n",
            "max      1.000000e+07\n",
            "Name: amount, dtype: float64\n",
            "-----------------------------\n",
            "Valid transaction \n",
            " count    6.354407e+06\n",
            "mean     1.781970e+05\n",
            "std      5.962370e+05\n",
            "min      1.000000e-02\n",
            "25%      1.336840e+04\n",
            "50%      7.468472e+04\n",
            "75%      2.083648e+05\n",
            "max      9.244552e+07\n",
            "Name: amount, dtype: float64\n"
          ]
        }
      ]
    },
    {
      "cell_type": "code",
      "source": [
        "# Looking at the Type of transaction\n",
        "fig, axs = plt.subplots(2, 1, figsize=(10, 4))\n",
        "\n",
        "# plot of fraud \n",
        "sns.histplot(x='amount', data=fraud, ax=axs[0])\n",
        "axs[0].set_title('Type of transaction in fraud')\n",
        "\n",
        "sns.histplot(x='amount', data=valid, ax=axs[1])\n",
        "axs[1].set_title('Type of transaction in valid')\n",
        "plt.xlim((0, 800000))\n",
        "plt.show()\n"
      ],
      "metadata": {
        "colab": {
          "base_uri": "https://localhost:8080/",
          "height": 295
        },
        "outputId": "bb36ccb2-d915-4731-9776-b47e229167e7",
        "id": "4tMRyYFsnkc5"
      },
      "execution_count": null,
      "outputs": [
        {
          "output_type": "display_data",
          "data": {
            "text/plain": [
              "<Figure size 720x288 with 2 Axes>"
            ],
            "image/png": "[encoded data removed]"
          },
          "metadata": {
            "needs_background": "light"
          }
        }
      ]
    },
    {
      "cell_type": "code",
      "source": [
        "# Looking balances before and after the transaction\n",
        "wrong_orig_bal = sum(df[\"oldbalanceOrg\"] - df[\"amount\"] != df[\"newbalanceOrig\"])\n",
        "wrong_dest_bal = sum(df[\"newbalanceDest\"] + df[\"amount\"] != df[\"newbalanceDest\"])\n",
        "print(\"Percentage of observations with balance errors in the account giving money: \", 100*round(wrong_orig_bal/len(df),2))\n",
        "print(\"Percentage of observations with balance errors in the account receiving money: \", 100*round(wrong_dest_bal/len(df),2))"
      ],
      "metadata": {
        "colab": {
          "base_uri": "https://localhost:8080/"
        },
        "id": "oppEsyeapTWb",
        "outputId": "361f8be2-f417-43d5-ab01-9f9e0df056a9"
      },
      "execution_count": null,
      "outputs": [
        {
          "output_type": "stream",
          "name": "stdout",
          "text": [
            "Percentage of observations with balance errors in the account giving money:  85.0\n",
            "Percentage of observations with balance errors in the account receiving money:  100.0\n"
          ]
        }
      ]
    },
    {
      "cell_type": "markdown",
      "source": [
        "**Insights from balances before and after the transaction**\n",
        "- Almost all the observations have inaccurate balances after transaction.\n",
        "- Some form of imputation happen."
      ],
      "metadata": {
        "id": "5abJKML3tPui"
      }
    },
    {
      "cell_type": "code",
      "source": [
        "# Looking into the error in the balance on both the Orig and Dest after transaction\n",
        "fraud['errorBalanceOrg'] = fraud.newbalanceOrig + fraud.amount - fraud.oldbalanceOrg\n",
        "fraud['errorBalanceDest'] = fraud.oldbalanceDest + fraud.amount - fraud.newbalanceDest\n",
        "\n",
        "valid['errorBalanceOrg'] = valid.newbalanceOrig + valid.amount - valid.oldbalanceOrg\n",
        "valid['errorBalanceDest'] = valid.oldbalanceDest + valid.amount - valid.newbalanceDest"
      ],
      "metadata": {
        "id": "Oe-s0VcHzw_J"
      },
      "execution_count": null,
      "outputs": []
    },
    {
      "cell_type": "code",
      "source": [
        "print('Statistical summary of errorBalanceOrg for fraudulent transactions \\n', fraud.errorBalanceOrg.describe())\n",
        "print('-----------------------------')\n",
        "print('Statistical summary of errorBalanceOrg for valid transactions \\n', valid.errorBalanceOrg.describe())"
      ],
      "metadata": {
        "colab": {
          "base_uri": "https://localhost:8080/"
        },
        "id": "73HGw_Eq0ujU",
        "outputId": "87faf34b-50ce-4518-d395-dcd19d7ccce3"
      },
      "execution_count": null,
      "outputs": [
        {
          "output_type": "stream",
          "name": "stdout",
          "text": [
            "Statistical summary of errorBalanceOrg for fraudulent transactions \n",
            " count    8.213000e+03\n",
            "mean     1.069233e+04\n",
            "std      2.651461e+05\n",
            "min     -7.450581e-09\n",
            "25%      0.000000e+00\n",
            "50%      0.000000e+00\n",
            "75%      0.000000e+00\n",
            "max      1.000000e+07\n",
            "Name: errorBalanceOrg, dtype: float64\n",
            "-----------------------------\n",
            "Statistical summary of errorBalanceOrg for valid transactions \n",
            " count    6.354407e+06\n",
            "mean     2.013386e+05\n",
            "std      6.069289e+05\n",
            "min     -1.000000e-02\n",
            "25%      3.034305e+03\n",
            "50%      6.904931e+04\n",
            "75%      2.499534e+05\n",
            "max      9.244552e+07\n",
            "Name: errorBalanceOrg, dtype: float64\n"
          ]
        }
      ]
    },
    {
      "cell_type": "markdown",
      "source": [
        "**Insights from errors**\n",
        "- In fraudulant transactions it seems that a large proportion of the data have an error of 0 or close to zero(-7.450581e-09).\n",
        "- Almost 3rd quartile is 0. However, there are some large errors, the largest error being 1.000000e+07.\n",
        "\n",
        "- In valid transactions, a large proportion of the data have large errors. About 75% of the data have errors exceeding 3.034305e+03.\n",
        "- The largest error is 9.244552e+07."
      ],
      "metadata": {
        "id": "ORstxkX12G4X"
      }
    },
    {
      "cell_type": "markdown",
      "source": [],
      "metadata": {
        "id": "BEWNJjrE3rRP"
      }
    },
    {
      "cell_type": "code",
      "source": [
        "print('Statistical summary of errorBalanceDest for fraudulent transactions \\n', fraud.errorBalanceDest.describe())\n",
        "print('-----------------------------')\n",
        "print('Statistical summary of errorBalanceDest for valid transactions \\n', valid.errorBalanceDest.describe())"
      ],
      "metadata": {
        "colab": {
          "base_uri": "https://localhost:8080/"
        },
        "id": "gHr12f8j0ufS",
        "outputId": "fad1d810-c314-4e98-f62d-1ae7dffbe443"
      },
      "execution_count": null,
      "outputs": [
        {
          "output_type": "stream",
          "name": "stdout",
          "text": [
            "Statistical summary of errorBalanceDest for fraudulent transactions \n",
            " count    8.213000e+03\n",
            "mean     7.325093e+05\n",
            "std      1.867748e+06\n",
            "min     -8.875516e+06\n",
            "25%      0.000000e+00\n",
            "50%      2.231460e+03\n",
            "75%      4.427220e+05\n",
            "max      1.000000e+07\n",
            "Name: errorBalanceDest, dtype: float64\n",
            "-----------------------------\n",
            "Statistical summary of errorBalanceDest for valid transactions \n",
            " count    6.354407e+06\n",
            "mean     5.469223e+04\n",
            "std      4.360026e+05\n",
            "min     -7.588573e+07\n",
            "25%      0.000000e+00\n",
            "50%      3.500680e+03\n",
            "75%      2.925981e+04\n",
            "max      1.319123e+07\n",
            "Name: errorBalanceDest, dtype: float64\n"
          ]
        }
      ]
    },
    {
      "cell_type": "code",
      "source": [
        "errors = [\"errorBalanceOrg\", \"errorBalanceDest\"]\n",
        "ax = plt.subplot()\n",
        "\n",
        "fplot = fraud.plot(x=\"errorBalanceOrg\",y=\"errorBalanceDest\",color=\"red\",kind=\"scatter\",ax=ax,label=\"Fraudulent transactions\")\n",
        "vplot = valid.plot(x=\"errorBalanceOrg\",y=\"errorBalanceDest\",color=\"green\",kind=\"scatter\",\\\n",
        "                   alpha=0.01,ax=ax,label=\"Valid transactions\")\n",
        "plt.title(\"errorBalanceOrg vs errorBalanceDest\")\n",
        "plt.show()"
      ],
      "metadata": {
        "colab": {
          "base_uri": "https://localhost:8080/",
          "height": 295
        },
        "id": "tJoO3gX4310P",
        "outputId": "71b568dd-1258-41cd-dbaa-b60db444d18b"
      },
      "execution_count": null,
      "outputs": [
        {
          "output_type": "display_data",
          "data": {
            "text/plain": [
              "<Figure size 432x288 with 1 Axes>"
            ],
            "image/png": "[encoded data removed]"
          },
          "metadata": {
            "needs_background": "light"
          }
        }
      ]
    },
    {
      "cell_type": "markdown",
      "source": [
        "**Insights on errorBalanceDest**\n",
        "- Many fraudulent transactions that are found in the top right corner where the errorBalanceDest > 0.\n",
        "- Valid transactions occur much more often when the errorBalanceDest <= 0."
      ],
      "metadata": {
        "id": "Aa5A4lCc5-kV"
      }
    },
    {
      "cell_type": "code",
      "source": [],
      "metadata": {
        "id": "XmX42qUa31m-"
      },
      "execution_count": null,
      "outputs": []
    },
    {
      "cell_type": "markdown",
      "source": [
        "#### Bivariate Analysis"
      ],
      "metadata": {
        "id": "tE_cq1LgvXQx"
      }
    },
    {
      "cell_type": "code",
      "source": [
        "# Looking into the step and transaction\n",
        "# creating a new column name hour in df_new to check whether the fraudulent transactions occur more often during certain time\n",
        "fraud_hours = fraud['step'] % (24) + 1\n",
        "valid_hours = valid['step'] % (24) + 1"
      ],
      "metadata": {
        "id": "l8apGu_Ys6od"
      },
      "execution_count": null,
      "outputs": []
    },
    {
      "cell_type": "code",
      "source": [
        "f, (ax1, ax2) = plt.subplots(1, 2, figsize=(18, 8))\n",
        "fraud_hours.hist(bins=24, ax=ax1)\n",
        "ax1.set_title('Fraud Transactions')\n",
        "valid_hours.hist(bins=24, ax=ax2)\n",
        "ax2.set_title('Valid Transactions')\n",
        "ax1.set_xlabel('Hour of Day')\n",
        "ax2.set_xlabel('Hour of Day')\n",
        "ax1.set_ylabel('Transaction Amount')\n",
        "plt.show()"
      ],
      "metadata": {
        "colab": {
          "base_uri": "https://localhost:8080/",
          "height": 513
        },
        "id": "Y7odhwkN1BYn",
        "outputId": "8b1cf15c-c114-4a37-e1df-132bf85365a0"
      },
      "execution_count": null,
      "outputs": [
        {
          "output_type": "display_data",
          "data": {
            "text/plain": [
              "<Figure size 1296x576 with 2 Axes>"
            ],
            "image/png": "[encoded data removed]"
          },
          "metadata": {
            "needs_background": "light"
          }
        }
      ]
    },
    {
      "cell_type": "markdown",
      "source": [
        "**Insights from the fraud and valid transaction respect to time**\n",
        "- There are large amount of valid transaction is higher from the hour 10 to 24, where the fraud transactions are almost normal 24 hours."
      ],
      "metadata": {
        "id": "U5wiW6KG5HQ8"
      }
    },
    {
      "cell_type": "code",
      "source": [],
      "metadata": {
        "id": "XtHwTt5U2Tnu"
      },
      "execution_count": null,
      "outputs": []
    },
    {
      "cell_type": "code",
      "source": [
        "# Looking at transaction types and cashouts for fraud accounts\n",
        "fraud_transfer = fraud[fraud[\"type\"] == \"TRANSFER\"]\n",
        "fraud_cashout = fraud[fraud[\"type\"] == \"CASH_OUT\"]"
      ],
      "metadata": {
        "id": "nEe6LqgA3SRR"
      },
      "execution_count": null,
      "outputs": []
    },
    {
      "cell_type": "code",
      "source": [
        "# checking if the recipient account of a fraudulent transfer was used as a sending account for cashing out\n",
        "fraud_transfer.nameDest.isin(fraud_cashout.nameOrig).any()"
      ],
      "metadata": {
        "colab": {
          "base_uri": "https://localhost:8080/"
        },
        "id": "IgZzy9-cHGZg",
        "outputId": "990dd352-0e56-4628-f826-c4a89e4a432d"
      },
      "execution_count": null,
      "outputs": [
        {
          "output_type": "execute_result",
          "data": {
            "text/plain": [
              "False"
            ]
          },
          "metadata": {},
          "execution_count": 29
        }
      ]
    },
    {
      "cell_type": "markdown",
      "source": [
        "**Insights from fraudulent transfer and cashout**\n",
        "- In fraudulent transactions, the account that received funds during a transfer was not used at all for cashing out.\n",
        "- For this case, there seems to be no use for nameOrig or nameDest."
      ],
      "metadata": {
        "id": "3U06UB5FHmG5"
      }
    },
    {
      "cell_type": "code",
      "source": [
        "# Looking at isFlagged transactions\n",
        "# finding how many transactions that flagged fraud are right and how many are wrong\n",
        "flagged = df_fraud[df_fraud[\"isFlaggedFraud\"] == 1]\n",
        "\n",
        "correctly_flagged = sum(flagged[\"isFraud\"] == 1)\n",
        "wrongly_flagged = len(flagged) - correctly_flagged\n",
        "\n",
        "total_flagged = correctly_flagged + wrongly_flagged\n",
        "\n",
        "print(f\"Total number of transactions flagged: {total_flagged}\")\n",
        "print(f\"Number of transactions flagged correctly: {correctly_flagged}\")\n",
        "print(f\"Number of transactions flagged wrongly: {wrongly_flagged}\")\n"
      ],
      "metadata": {
        "colab": {
          "base_uri": "https://localhost:8080/"
        },
        "id": "OGKePFkWIZrB",
        "outputId": "9ffa2e2e-0651-4b53-ac5f-f5fbb1d72f65"
      },
      "execution_count": null,
      "outputs": [
        {
          "output_type": "stream",
          "name": "stdout",
          "text": [
            "Total number of transactions flagged: 16\n",
            "Number of transactions flagged correctly: 16\n",
            "Number of transactions flagged wrongly: 0\n"
          ]
        }
      ]
    },
    {
      "cell_type": "code",
      "source": [
        "# finding how many transactions that should be flagged as fradulent\n",
        "should_flagged = fraud[(fraud['amount']>20000)&(fraud['type'] == 'TRANSFER')]\n",
        "print(f'Number of transaction that should be flagged:{len(should_flagged)}')"
      ],
      "metadata": {
        "colab": {
          "base_uri": "https://localhost:8080/"
        },
        "id": "OCr3VSaHK0RV",
        "outputId": "d74ca9ae-e410-4ea8-906e-744f24e36ba7"
      },
      "execution_count": null,
      "outputs": [
        {
          "output_type": "stream",
          "name": "stdout",
          "text": [
            "Number of transaction that should be flagged:3872\n"
          ]
        }
      ]
    },
    {
      "cell_type": "markdown",
      "source": [
        "**Insights from the isFlagged**\n",
        "- The transactions that flagged as fraud is 100% accurate that it flagged 16 and 16 of them are correct.\n",
        "- But for a dataset of millions of record, a variable that brings attention to only 16 observations is insignificant.\n",
        "- The number of transaction that should have been flagged as fraudulent is very far than the observations flagged.\n",
        "- So the isFlaggedFraud column is irrelavent."
      ],
      "metadata": {
        "id": "jVmizF5hNVS6"
      }
    },
    {
      "cell_type": "markdown",
      "source": [
        "## Correlation"
      ],
      "metadata": {
        "id": "7uqJLHxQPoqL"
      }
    },
    {
      "cell_type": "code",
      "source": [
        "corr = df_fraud.corr()\n",
        "top_corr_features = corr.index\n",
        "plt.figure(figsize=(15,10))\n",
        "#plot heat map\n",
        "g=sns.heatmap(df_fraud[top_corr_features].corr(),annot=True,cmap=\"RdYlGn\")\n"
      ],
      "metadata": {
        "colab": {
          "base_uri": "https://localhost:8080/",
          "height": 596
        },
        "id": "MTf7RagvLtAT",
        "outputId": "58234b4a-4e3e-4dbd-953e-d148a4985ac2"
      },
      "execution_count": null,
      "outputs": [
        {
          "output_type": "display_data",
          "data": {
            "text/plain": [
              "<Figure size 1080x720 with 2 Axes>"
            ],
            "image/png": "[encoded data removed]"
          },
          "metadata": {
            "needs_background": "light"
          }
        }
      ]
    },
    {
      "cell_type": "markdown",
      "source": [
        "**Insights from the correlation graph**\n",
        "- oldbalanceOrg and newbalanceOrig have a high positive correlation (0.998803), indicating a strong relationship between the original account balance before and after the transaction.\n",
        "- oldbalanceDest and newbalanceDest also have a high positive correlation (0.976569), showing a similar relationship between the destination account balance before and after the transaction.\n",
        "- amount has a moderate positive correlation with newbalanceDest (0.459304) and oldbalanceDest (0.294137), suggesting that the transaction amount has a significant effect on the destination account balance.\n",
        "- isFraud has a weak positive correlation with amount (0.076688) and a weak negative correlation with oldbalanceOrg (-0.010058), newbalanceOrig (-0.010299), and oldbalanceDest (-0.005885).\n"
      ],
      "metadata": {
        "id": "pPuo1OSnVmZ7"
      }
    },
    {
      "cell_type": "markdown",
      "source": [
        "## Data Pre-processing "
      ],
      "metadata": {
        "id": "WMe-7sgjuCO6"
      }
    },
    {
      "cell_type": "markdown",
      "source": [
        "### Creating new feature from the above Insights"
      ],
      "metadata": {
        "id": "qY-u8yxduM1j"
      }
    },
    {
      "cell_type": "code",
      "source": [
        "df_fraud['errorBalanceOrg'] = df_fraud.newbalanceOrig + df_fraud.amount - df_fraud.oldbalanceOrg\n",
        "df_fraud['errorBalanceDest'] = df_fraud.oldbalanceDest + df_fraud.amount - df_fraud.newbalanceDest\n",
        "df_fraud['hoursOfDay'] = df_fraud.step % 24 + 1"
      ],
      "metadata": {
        "id": "5lZSWrMMUEg3"
      },
      "execution_count": null,
      "outputs": []
    },
    {
      "cell_type": "code",
      "source": [
        "df_fraud.head()"
      ],
      "metadata": {
        "colab": {
          "base_uri": "https://localhost:8080/",
          "height": 270
        },
        "id": "T71UEn6gwllG",
        "outputId": "c258b96a-21f2-4caa-c18b-a67345ace1da"
      },
      "execution_count": null,
      "outputs": [
        {
          "output_type": "execute_result",
          "data": {
            "text/plain": [
              "   step      type    amount     nameOrig  oldbalanceOrg  newbalanceOrig  \\\n",
              "0     1   PAYMENT   9839.64  C1231006815       170136.0       160296.36   \n",
              "1     1   PAYMENT   1864.28  C1666544295        21249.0        19384.72   \n",
              "2     1  TRANSFER    181.00  C1305486145          181.0            0.00   \n",
              "3     1  CASH_OUT    181.00   C840083671          181.0            0.00   \n",
              "4     1   PAYMENT  11668.14  C2048537720        41554.0        29885.86   \n",
              "\n",
              "      nameDest  oldbalanceDest  newbalanceDest  isFraud  isFlaggedFraud  \\\n",
              "0  M1979787155             0.0             0.0        0               0   \n",
              "1  M2044282225             0.0             0.0        0               0   \n",
              "2   C553264065             0.0             0.0        1               0   \n",
              "3    C38997010         21182.0             0.0        1               0   \n",
              "4  M1230701703             0.0             0.0        0               0   \n",
              "\n",
              "   errorBalanceOrg  errorBalanceDest  hoursOfDay  \n",
              "0              0.0           9839.64           2  \n",
              "1              0.0           1864.28           2  \n",
              "2              0.0            181.00           2  \n",
              "3              0.0          21363.00           2  \n",
              "4              0.0          11668.14           2  "
            ],
            "text/html": [
              "\n",
              "  <div id=\"df-a2f70612-15a6-4f8c-b623-6d78921534f4\">\n",
              "    <div class=\"colab-df-container\">\n",
              "      <div>\n",
              "<style scoped>\n",
              "    .dataframe tbody tr th:only-of-type {\n",
              "        vertical-align: middle;\n",
              "    }\n",
              "\n",
              "    .dataframe tbody tr th {\n",
              "        vertical-align: top;\n",
              "    }\n",
              "\n",
              "    .dataframe thead th {\n",
              "        text-align: right;\n",
              "    }\n",
              "</style>\n",
              "<table border=\"1\" class=\"dataframe\">\n",
              "  <thead>\n",
              "    <tr style=\"text-align: right;\">\n",
              "      <th></th>\n",
              "      <th>step</th>\n",
              "      <th>type</th>\n",
              "      <th>amount</th>\n",
              "      <th>nameOrig</th>\n",
              "      <th>oldbalanceOrg</th>\n",
              "      <th>newbalanceOrig</th>\n",
              "      <th>nameDest</th>\n",
              "      <th>oldbalanceDest</th>\n",
              "      <th>newbalanceDest</th>\n",
              "      <th>isFraud</th>\n",
              "      <th>isFlaggedFraud</th>\n",
              "      <th>errorBalanceOrg</th>\n",
              "      <th>errorBalanceDest</th>\n",
              "      <th>hoursOfDay</th>\n",
              "    </tr>\n",
              "  </thead>\n",
              "  <tbody>\n",
              "    <tr>\n",
              "      <th>0</th>\n",
              "      <td>1</td>\n",
              "      <td>PAYMENT</td>\n",
              "      <td>9839.64</td>\n",
              "      <td>C1231006815</td>\n",
              "      <td>170136.0</td>\n",
              "      <td>160296.36</td>\n",
              "      <td>M1979787155</td>\n",
              "      <td>0.0</td>\n",
              "      <td>0.0</td>\n",
              "      <td>0</td>\n",
              "      <td>0</td>\n",
              "      <td>0.0</td>\n",
              "      <td>9839.64</td>\n",
              "      <td>2</td>\n",
              "    </tr>\n",
              "    <tr>\n",
              "      <th>1</th>\n",
              "      <td>1</td>\n",
              "      <td>PAYMENT</td>\n",
              "      <td>1864.28</td>\n",
              "      <td>C1666544295</td>\n",
              "      <td>21249.0</td>\n",
              "      <td>19384.72</td>\n",
              "      <td>M2044282225</td>\n",
              "      <td>0.0</td>\n",
              "      <td>0.0</td>\n",
              "      <td>0</td>\n",
              "      <td>0</td>\n",
              "      <td>0.0</td>\n",
              "      <td>1864.28</td>\n",
              "      <td>2</td>\n",
              "    </tr>\n",
              "    <tr>\n",
              "      <th>2</th>\n",
              "      <td>1</td>\n",
              "      <td>TRANSFER</td>\n",
              "      <td>181.00</td>\n",
              "      <td>C1305486145</td>\n",
              "      <td>181.0</td>\n",
              "      <td>0.00</td>\n",
              "      <td>C553264065</td>\n",
              "      <td>0.0</td>\n",
              "      <td>0.0</td>\n",
              "      <td>1</td>\n",
              "      <td>0</td>\n",
              "      <td>0.0</td>\n",
              "      <td>181.00</td>\n",
              "      <td>2</td>\n",
              "    </tr>\n",
              "    <tr>\n",
              "      <th>3</th>\n",
              "      <td>1</td>\n",
              "      <td>CASH_OUT</td>\n",
              "      <td>181.00</td>\n",
              "      <td>C840083671</td>\n",
              "      <td>181.0</td>\n",
              "      <td>0.00</td>\n",
              "      <td>C38997010</td>\n",
              "      <td>21182.0</td>\n",
              "      <td>0.0</td>\n",
              "      <td>1</td>\n",
              "      <td>0</td>\n",
              "      <td>0.0</td>\n",
              "      <td>21363.00</td>\n",
              "      <td>2</td>\n",
              "    </tr>\n",
              "    <tr>\n",
              "      <th>4</th>\n",
              "      <td>1</td>\n",
              "      <td>PAYMENT</td>\n",
              "      <td>11668.14</td>\n",
              "      <td>C2048537720</td>\n",
              "      <td>41554.0</td>\n",
              "      <td>29885.86</td>\n",
              "      <td>M1230701703</td>\n",
              "      <td>0.0</td>\n",
              "      <td>0.0</td>\n",
              "      <td>0</td>\n",
              "      <td>0</td>\n",
              "      <td>0.0</td>\n",
              "      <td>11668.14</td>\n",
              "      <td>2</td>\n",
              "    </tr>\n",
              "  </tbody>\n",
              "</table>\n",
              "</div>\n",
              "      <button class=\"colab-df-convert\" onclick=\"convertToInteractive('df-a2f70612-15a6-4f8c-b623-6d78921534f4')\"\n",
              "              title=\"Convert this dataframe to an interactive table.\"\n",
              "              style=\"display:none;\">\n",
              "        \n",
              "  <svg xmlns=\"http://www.w3.org/2000/svg\" height=\"24px\"viewBox=\"0 0 24 24\"\n",
              "       width=\"24px\">\n",
              "    <path d=\"M0 0h24v24H0V0z\" fill=\"none\"/>\n",
              "    <path d=\"M18.56 5.44l.94 2.06.94-2.06 2.06-.94-2.06-.94-.94-2.06-.94 2.06-2.06.94zm-11 1L8.5 8.5l.94-2.06 2.06-.94-2.06-.94L8.5 2.5l-.94 2.06-2.06.94zm10 10l.94 2.06.94-2.06 2.06-.94-2.06-.94-.94-2.06-.94 2.06-2.06.94z\"/><path d=\"M17.41 7.96l-1.37-1.37c-.4-.4-.92-.59-1.43-.59-.52 0-1.04.2-1.43.59L10.3 9.45l-7.72 7.72c-.78.78-.78 2.05 0 2.83L4 21.41c.39.39.9.59 1.41.59.51 0 1.02-.2 1.41-.59l7.78-7.78 2.81-2.81c.8-.78.8-2.07 0-2.86zM5.41 20L4 18.59l7.72-7.72 1.47 1.35L5.41 20z\"/>\n",
              "  </svg>\n",
              "      </button>\n",
              "      \n",
              "  <style>\n",
              "    .colab-df-container {\n",
              "      display:flex;\n",
              "      flex-wrap:wrap;\n",
              "      gap: 12px;\n",
              "    }\n",
              "\n",
              "    .colab-df-convert {\n",
              "      background-color: #E8F0FE;\n",
              "      border: none;\n",
              "      border-radius: 50%;\n",
              "      cursor: pointer;\n",
              "      display: none;\n",
              "      fill: #1967D2;\n",
              "      height: 32px;\n",
              "      padding: 0 0 0 0;\n",
              "      width: 32px;\n",
              "    }\n",
              "\n",
              "    .colab-df-convert:hover {\n",
              "      background-color: #E2EBFA;\n",
              "      box-shadow: 0px 1px 2px rgba(60, 64, 67, 0.3), 0px 1px 3px 1px rgba(60, 64, 67, 0.15);\n",
              "      fill: #174EA6;\n",
              "    }\n",
              "\n",
              "    [theme=dark] .colab-df-convert {\n",
              "      background-color: #3B4455;\n",
              "      fill: #D2E3FC;\n",
              "    }\n",
              "\n",
              "    [theme=dark] .colab-df-convert:hover {\n",
              "      background-color: #434B5C;\n",
              "      box-shadow: 0px 1px 3px 1px rgba(0, 0, 0, 0.15);\n",
              "      filter: drop-shadow(0px 1px 2px rgba(0, 0, 0, 0.3));\n",
              "      fill: #FFFFFF;\n",
              "    }\n",
              "  </style>\n",
              "\n",
              "      <script>\n",
              "        const buttonEl =\n",
              "          document.querySelector('#df-a2f70612-15a6-4f8c-b623-6d78921534f4 button.colab-df-convert');\n",
              "        buttonEl.style.display =\n",
              "          google.colab.kernel.accessAllowed ? 'block' : 'none';\n",
              "\n",
              "        async function convertToInteractive(key) {\n",
              "          const element = document.querySelector('#df-a2f70612-15a6-4f8c-b623-6d78921534f4');\n",
              "          const dataTable =\n",
              "            await google.colab.kernel.invokeFunction('convertToInteractive',\n",
              "                                                     [key], {});\n",
              "          if (!dataTable) return;\n",
              "\n",
              "          const docLinkHtml = 'Like what you see? Visit the ' +\n",
              "            '<a target=\"_blank\" href=https://colab.research.google.com/notebooks/data_table.ipynb>data table notebook</a>'\n",
              "            + ' to learn more about interactive tables.';\n",
              "          element.innerHTML = '';\n",
              "          dataTable['output_type'] = 'display_data';\n",
              "          await google.colab.output.renderOutput(dataTable, element);\n",
              "          const docLink = document.createElement('div');\n",
              "          docLink.innerHTML = docLinkHtml;\n",
              "          element.appendChild(docLink);\n",
              "        }\n",
              "      </script>\n",
              "    </div>\n",
              "  </div>\n",
              "  "
            ]
          },
          "metadata": {},
          "execution_count": 34
        }
      ]
    },
    {
      "cell_type": "markdown",
      "source": [
        "### Droping the Variable that are found to be not a good predictors.\n"
      ],
      "metadata": {
        "id": "C24MI3Mtysav"
      }
    },
    {
      "cell_type": "code",
      "source": [
        "df_fraud.drop(['nameOrig', 'nameDest', 'isFlaggedFraud'], axis=1, inplace=True)"
      ],
      "metadata": {
        "id": "s4tjc7UDw8C9"
      },
      "execution_count": null,
      "outputs": []
    },
    {
      "cell_type": "markdown",
      "source": [
        "## Categorical variable imputation"
      ],
      "metadata": {
        "id": "cLEicRWB9lMN"
      }
    },
    {
      "cell_type": "code",
      "source": [
        "# one-hot encoding of the type variable\n",
        "df_fraud = pd.get_dummies(df_fraud, prefix=['type'])"
      ],
      "metadata": {
        "id": "Jb-99Jcu9u62"
      },
      "execution_count": null,
      "outputs": []
    },
    {
      "cell_type": "code",
      "source": [
        "df_fraud.head()"
      ],
      "metadata": {
        "colab": {
          "base_uri": "https://localhost:8080/",
          "height": 270
        },
        "id": "ssA48oEY9u3d",
        "outputId": "98425e53-5799-41cc-cb05-1d7816247665"
      },
      "execution_count": null,
      "outputs": [
        {
          "output_type": "execute_result",
          "data": {
            "text/plain": [
              "   step    amount  oldbalanceOrg  newbalanceOrig  oldbalanceDest  \\\n",
              "0     1   9839.64       170136.0       160296.36             0.0   \n",
              "1     1   1864.28        21249.0        19384.72             0.0   \n",
              "2     1    181.00          181.0            0.00             0.0   \n",
              "3     1    181.00          181.0            0.00         21182.0   \n",
              "4     1  11668.14        41554.0        29885.86             0.0   \n",
              "\n",
              "   newbalanceDest  isFraud  errorBalanceOrg  errorBalanceDest  hoursOfDay  \\\n",
              "0             0.0        0              0.0           9839.64           2   \n",
              "1             0.0        0              0.0           1864.28           2   \n",
              "2             0.0        1              0.0            181.00           2   \n",
              "3             0.0        1              0.0          21363.00           2   \n",
              "4             0.0        0              0.0          11668.14           2   \n",
              "\n",
              "   type_CASH_IN  type_CASH_OUT  type_DEBIT  type_PAYMENT  type_TRANSFER  \n",
              "0             0              0           0             1              0  \n",
              "1             0              0           0             1              0  \n",
              "2             0              0           0             0              1  \n",
              "3             0              1           0             0              0  \n",
              "4             0              0           0             1              0  "
            ],
            "text/html": [
              "\n",
              "  <div id=\"df-ddacc5db-c8b2-4efe-b551-c680f2f92cf2\">\n",
              "    <div class=\"colab-df-container\">\n",
              "      <div>\n",
              "<style scoped>\n",
              "    .dataframe tbody tr th:only-of-type {\n",
              "        vertical-align: middle;\n",
              "    }\n",
              "\n",
              "    .dataframe tbody tr th {\n",
              "        vertical-align: top;\n",
              "    }\n",
              "\n",
              "    .dataframe thead th {\n",
              "        text-align: right;\n",
              "    }\n",
              "</style>\n",
              "<table border=\"1\" class=\"dataframe\">\n",
              "  <thead>\n",
              "    <tr style=\"text-align: right;\">\n",
              "      <th></th>\n",
              "      <th>step</th>\n",
              "      <th>amount</th>\n",
              "      <th>oldbalanceOrg</th>\n",
              "      <th>newbalanceOrig</th>\n",
              "      <th>oldbalanceDest</th>\n",
              "      <th>newbalanceDest</th>\n",
              "      <th>isFraud</th>\n",
              "      <th>errorBalanceOrg</th>\n",
              "      <th>errorBalanceDest</th>\n",
              "      <th>hoursOfDay</th>\n",
              "      <th>type_CASH_IN</th>\n",
              "      <th>type_CASH_OUT</th>\n",
              "      <th>type_DEBIT</th>\n",
              "      <th>type_PAYMENT</th>\n",
              "      <th>type_TRANSFER</th>\n",
              "    </tr>\n",
              "  </thead>\n",
              "  <tbody>\n",
              "    <tr>\n",
              "      <th>0</th>\n",
              "      <td>1</td>\n",
              "      <td>9839.64</td>\n",
              "      <td>170136.0</td>\n",
              "      <td>160296.36</td>\n",
              "      <td>0.0</td>\n",
              "      <td>0.0</td>\n",
              "      <td>0</td>\n",
              "      <td>0.0</td>\n",
              "      <td>9839.64</td>\n",
              "      <td>2</td>\n",
              "      <td>0</td>\n",
              "      <td>0</td>\n",
              "      <td>0</td>\n",
              "      <td>1</td>\n",
              "      <td>0</td>\n",
              "    </tr>\n",
              "    <tr>\n",
              "      <th>1</th>\n",
              "      <td>1</td>\n",
              "      <td>1864.28</td>\n",
              "      <td>21249.0</td>\n",
              "      <td>19384.72</td>\n",
              "      <td>0.0</td>\n",
              "      <td>0.0</td>\n",
              "      <td>0</td>\n",
              "      <td>0.0</td>\n",
              "      <td>1864.28</td>\n",
              "      <td>2</td>\n",
              "      <td>0</td>\n",
              "      <td>0</td>\n",
              "      <td>0</td>\n",
              "      <td>1</td>\n",
              "      <td>0</td>\n",
              "    </tr>\n",
              "    <tr>\n",
              "      <th>2</th>\n",
              "      <td>1</td>\n",
              "      <td>181.00</td>\n",
              "      <td>181.0</td>\n",
              "      <td>0.00</td>\n",
              "      <td>0.0</td>\n",
              "      <td>0.0</td>\n",
              "      <td>1</td>\n",
              "      <td>0.0</td>\n",
              "      <td>181.00</td>\n",
              "      <td>2</td>\n",
              "      <td>0</td>\n",
              "      <td>0</td>\n",
              "      <td>0</td>\n",
              "      <td>0</td>\n",
              "      <td>1</td>\n",
              "    </tr>\n",
              "    <tr>\n",
              "      <th>3</th>\n",
              "      <td>1</td>\n",
              "      <td>181.00</td>\n",
              "      <td>181.0</td>\n",
              "      <td>0.00</td>\n",
              "      <td>21182.0</td>\n",
              "      <td>0.0</td>\n",
              "      <td>1</td>\n",
              "      <td>0.0</td>\n",
              "      <td>21363.00</td>\n",
              "      <td>2</td>\n",
              "      <td>0</td>\n",
              "      <td>1</td>\n",
              "      <td>0</td>\n",
              "      <td>0</td>\n",
              "      <td>0</td>\n",
              "    </tr>\n",
              "    <tr>\n",
              "      <th>4</th>\n",
              "      <td>1</td>\n",
              "      <td>11668.14</td>\n",
              "      <td>41554.0</td>\n",
              "      <td>29885.86</td>\n",
              "      <td>0.0</td>\n",
              "      <td>0.0</td>\n",
              "      <td>0</td>\n",
              "      <td>0.0</td>\n",
              "      <td>11668.14</td>\n",
              "      <td>2</td>\n",
              "      <td>0</td>\n",
              "      <td>0</td>\n",
              "      <td>0</td>\n",
              "      <td>1</td>\n",
              "      <td>0</td>\n",
              "    </tr>\n",
              "  </tbody>\n",
              "</table>\n",
              "</div>\n",
              "      <button class=\"colab-df-convert\" onclick=\"convertToInteractive('df-ddacc5db-c8b2-4efe-b551-c680f2f92cf2')\"\n",
              "              title=\"Convert this dataframe to an interactive table.\"\n",
              "              style=\"display:none;\">\n",
              "        \n",
              "  <svg xmlns=\"http://www.w3.org/2000/svg\" height=\"24px\"viewBox=\"0 0 24 24\"\n",
              "       width=\"24px\">\n",
              "    <path d=\"M0 0h24v24H0V0z\" fill=\"none\"/>\n",
              "    <path d=\"M18.56 5.44l.94 2.06.94-2.06 2.06-.94-2.06-.94-.94-2.06-.94 2.06-2.06.94zm-11 1L8.5 8.5l.94-2.06 2.06-.94-2.06-.94L8.5 2.5l-.94 2.06-2.06.94zm10 10l.94 2.06.94-2.06 2.06-.94-2.06-.94-.94-2.06-.94 2.06-2.06.94z\"/><path d=\"M17.41 7.96l-1.37-1.37c-.4-.4-.92-.59-1.43-.59-.52 0-1.04.2-1.43.59L10.3 9.45l-7.72 7.72c-.78.78-.78 2.05 0 2.83L4 21.41c.39.39.9.59 1.41.59.51 0 1.02-.2 1.41-.59l7.78-7.78 2.81-2.81c.8-.78.8-2.07 0-2.86zM5.41 20L4 18.59l7.72-7.72 1.47 1.35L5.41 20z\"/>\n",
              "  </svg>\n",
              "      </button>\n",
              "      \n",
              "  <style>\n",
              "    .colab-df-container {\n",
              "      display:flex;\n",
              "      flex-wrap:wrap;\n",
              "      gap: 12px;\n",
              "    }\n",
              "\n",
              "    .colab-df-convert {\n",
              "      background-color: #E8F0FE;\n",
              "      border: none;\n",
              "      border-radius: 50%;\n",
              "      cursor: pointer;\n",
              "      display: none;\n",
              "      fill: #1967D2;\n",
              "      height: 32px;\n",
              "      padding: 0 0 0 0;\n",
              "      width: 32px;\n",
              "    }\n",
              "\n",
              "    .colab-df-convert:hover {\n",
              "      background-color: #E2EBFA;\n",
              "      box-shadow: 0px 1px 2px rgba(60, 64, 67, 0.3), 0px 1px 3px 1px rgba(60, 64, 67, 0.15);\n",
              "      fill: #174EA6;\n",
              "    }\n",
              "\n",
              "    [theme=dark] .colab-df-convert {\n",
              "      background-color: #3B4455;\n",
              "      fill: #D2E3FC;\n",
              "    }\n",
              "\n",
              "    [theme=dark] .colab-df-convert:hover {\n",
              "      background-color: #434B5C;\n",
              "      box-shadow: 0px 1px 3px 1px rgba(0, 0, 0, 0.15);\n",
              "      filter: drop-shadow(0px 1px 2px rgba(0, 0, 0, 0.3));\n",
              "      fill: #FFFFFF;\n",
              "    }\n",
              "  </style>\n",
              "\n",
              "      <script>\n",
              "        const buttonEl =\n",
              "          document.querySelector('#df-ddacc5db-c8b2-4efe-b551-c680f2f92cf2 button.colab-df-convert');\n",
              "        buttonEl.style.display =\n",
              "          google.colab.kernel.accessAllowed ? 'block' : 'none';\n",
              "\n",
              "        async function convertToInteractive(key) {\n",
              "          const element = document.querySelector('#df-ddacc5db-c8b2-4efe-b551-c680f2f92cf2');\n",
              "          const dataTable =\n",
              "            await google.colab.kernel.invokeFunction('convertToInteractive',\n",
              "                                                     [key], {});\n",
              "          if (!dataTable) return;\n",
              "\n",
              "          const docLinkHtml = 'Like what you see? Visit the ' +\n",
              "            '<a target=\"_blank\" href=https://colab.research.google.com/notebooks/data_table.ipynb>data table notebook</a>'\n",
              "            + ' to learn more about interactive tables.';\n",
              "          element.innerHTML = '';\n",
              "          dataTable['output_type'] = 'display_data';\n",
              "          await google.colab.output.renderOutput(dataTable, element);\n",
              "          const docLink = document.createElement('div');\n",
              "          docLink.innerHTML = docLinkHtml;\n",
              "          element.appendChild(docLink);\n",
              "        }\n",
              "      </script>\n",
              "    </div>\n",
              "  </div>\n",
              "  "
            ]
          },
          "metadata": {},
          "execution_count": 37
        }
      ]
    },
    {
      "cell_type": "markdown",
      "source": [
        "### Splitting the dataset into train data and test data"
      ],
      "metadata": {
        "id": "_9DziG1z78Ql"
      }
    },
    {
      "cell_type": "code",
      "source": [
        "# Splitting into features and target\n",
        "X = df_fraud.drop(\"isFraud\", axis=1)\n",
        "y = df_fraud.isFraud"
      ],
      "metadata": {
        "id": "kTNE8E6k7tPo"
      },
      "execution_count": null,
      "outputs": []
    },
    {
      "cell_type": "code",
      "source": [
        "# importing train_test_split\n",
        "from sklearn.model_selection import train_test_split\n",
        "\n",
        "\n",
        "# Creating training and test datasets\n",
        "X_train, X_test, y_train, y_test = train_test_split(X,y, test_size=0.3, stratify=y, random_state=42)"
      ],
      "metadata": {
        "id": "bBqHFmdC897A"
      },
      "execution_count": null,
      "outputs": []
    },
    {
      "cell_type": "code",
      "source": [
        "# importing StandarScaler to scaling\n",
        "from sklearn.preprocessing import StandardScaler\n",
        "\n",
        "# Scaling the data\n",
        "scaler = StandardScaler()\n",
        "\n",
        "scaler.fit(X_train)\n",
        "\n",
        "X_train = scaler.transform(X_train)\n",
        "X_test = scaler.transform(X_test)"
      ],
      "metadata": {
        "id": "jxtsnMr09dNB"
      },
      "execution_count": null,
      "outputs": []
    },
    {
      "cell_type": "markdown",
      "source": [
        "## Modeling\n",
        "\n",
        "**Using two different algorithms for this particular problems**\n",
        "\n",
        "In the context of fraud detection, Random Forest and XGBoost can be used to build predictive models that can identify fraudulent transactions based on a set of input features.\n",
        "Both algorithms can be used to handle imbalanced data, a common problem in fraud detection, by adjusting their cost functions or using stratified sampling techniques. These algorithms have the potential to provide a high level of accuracy and robustness in detecting fraudulent transactions\n",
        "\n",
        "\n"
      ],
      "metadata": {
        "id": "B5EYkAVUIqYx"
      }
    },
    {
      "cell_type": "code",
      "source": [
        "from sklearn.ensemble import RandomForestClassifier\n",
        "from xgboost.sklearn import XGBClassifier\n",
        "from sklearn.metrics import classification_report,accuracy_score, confusion_matrix"
      ],
      "metadata": {
        "id": "qEYM4_-vGBlj"
      },
      "execution_count": null,
      "outputs": []
    },
    {
      "cell_type": "code",
      "source": [
        "# Fitting Random Forest Model\n",
        "parameters_RF = {'n_estimators':15, 'oob_score':True, 'class_weight':'balanced', 'n_jobs':-1, 'random_state':42}\n",
        "\n",
        "random_forest = RandomForestClassifier(**parameters_RF)\n",
        "random_forest.fit(X_train, y_train)\n",
        "\n",
        "# predicting on test set\n",
        "pred_rf = random_forest.predict(X_test)"
      ],
      "metadata": {
        "id": "CrMgkQXBM1Aw"
      },
      "execution_count": null,
      "outputs": []
    },
    {
      "cell_type": "code",
      "source": [
        "# Fitting XGBoost Model\n",
        "weights = (y == 0).sum() / (1.0 * (y == 1).sum()) # for unbalanced dataset, these weights are recommended\n",
        "parameters_XGB = {'max_depth':3, 'scale_pos_weight': weights, 'n_jobs':-1, 'random_state' : 42, 'learning_rate':0.1}\n",
        "\n",
        "xg_boost = XGBClassifier(**parameters_XGB)\n",
        "xg_boost.fit(X_train, y_train)\n",
        "\n",
        "#predict on test set\n",
        "pred_xgb = xg_boost.predict(X_test)"
      ],
      "metadata": {
        "colab": {
          "base_uri": "https://localhost:8080/"
        },
        "id": "W11ByPmKNFgW",
        "outputId": "32503410-c3de-4026-d2f5-ab8208290163"
      },
      "execution_count": null,
      "outputs": [
        {
          "output_type": "stream",
          "name": "stdout",
          "text": [
            "[06:20:07] WARNING: /workspace/src/learner.cc:686: Tree method is automatically selected to be 'approx' for faster speed. To use old behavior (exact greedy algorithm on single machine), set tree_method to 'exact'.\n"
          ]
        }
      ]
    },
    {
      "cell_type": "markdown",
      "source": [
        "## Evaluating the performance of model"
      ],
      "metadata": {
        "id": "rigcGOjMwKiJ"
      }
    },
    {
      "cell_type": "code",
      "source": [
        "# random forest\n",
        "cm_rf = confusion_matrix(y_test, pred_rf)\n",
        "cr_rf = classification_report(y_test, pred_rf)\n",
        "as_rf = accuracy_score(y_test, pred_rf)\n",
        "\n",
        "# xgboost \n",
        "cm_xgb = confusion_matrix(y_test, pred_xgb)\n",
        "cr_xgb = classification_report(y_test, pred_xgb)\n",
        "as_xgb = accuracy_score(y_test, pred_xgb)\n"
      ],
      "metadata": {
        "id": "vM5S4qnNQFWc"
      },
      "execution_count": null,
      "outputs": []
    },
    {
      "cell_type": "code",
      "source": [
        "lines = '---------------------------------------------------------'\n",
        "print(\"Confusion Matrix of Random Forest\\n\",cm_rf,'\\n', lines, \"\\nClassification Report Random Forest\\n\",cr_rf, '\\n',lines, '\\nAccuracy score Random Forest\\n', as_rf)\n",
        "print(lines)\n",
        "print(lines)\n",
        "print(\"Confusion Matrix XG Boost\\n\",cm_xgb,'\\n', lines, \"\\nClassification Report XG Boost\\n\",cr_xgb,'\\n',lines, '\\nAccuracy score XG Boost\\n', as_xgb)\n"
      ],
      "metadata": {
        "colab": {
          "base_uri": "https://localhost:8080/"
        },
        "id": "LRKDY46CI4IE",
        "outputId": "2d92de26-eb73-49b3-fcdd-1b5a73f3e31c"
      },
      "execution_count": null,
      "outputs": [
        {
          "output_type": "stream",
          "name": "stdout",
          "text": [
            "Confusion Matrix of Random Forest\n",
            " [[1906322       0]\n",
            " [     11    2453]] \n",
            " --------------------------------------------------------- \n",
            "Classification Report Random Forest\n",
            "               precision    recall  f1-score   support\n",
            "\n",
            "           0       1.00      1.00      1.00   1906322\n",
            "           1       1.00      1.00      1.00      2464\n",
            "\n",
            "    accuracy                           1.00   1908786\n",
            "   macro avg       1.00      1.00      1.00   1908786\n",
            "weighted avg       1.00      1.00      1.00   1908786\n",
            " \n",
            " --------------------------------------------------------- \n",
            "Accuracy score Random Forest\n",
            " 0.9999942371748326\n",
            "---------------------------------------------------------\n",
            "---------------------------------------------------------\n",
            "Confusion Matrix XG Boost\n",
            " [[1906072     250]\n",
            " [      9    2455]] \n",
            " --------------------------------------------------------- \n",
            "Classification Report XG Boost\n",
            "               precision    recall  f1-score   support\n",
            "\n",
            "           0       1.00      1.00      1.00   1906322\n",
            "           1       0.91      1.00      0.95      2464\n",
            "\n",
            "    accuracy                           1.00   1908786\n",
            "   macro avg       0.95      1.00      0.97   1908786\n",
            "weighted avg       1.00      1.00      1.00   1908786\n",
            " \n",
            " --------------------------------------------------------- \n",
            "Accuracy score XG Boost\n",
            " 0.9998643116619673\n"
          ]
        }
      ]
    },
    {
      "cell_type": "markdown",
      "source": [
        "****"
      ],
      "metadata": {
        "id": "tkicYTFewGm2"
      }
    },
    {
      "cell_type": "code",
      "source": [
        "# plot the confusion matrix of Random Forest \n",
        "sns.heatmap(cm_rf, annot=True, fmt=\"d\", cmap=\"YlGnBu\")\n",
        "plt.xlabel(\"Predicted Label\")\n",
        "plt.ylabel(\"True Label\")\n",
        "plt.title(\"Confusion Matrix of Random Forest model\")\n",
        "plt.show()"
      ],
      "metadata": {
        "colab": {
          "base_uri": "https://localhost:8080/",
          "height": 295
        },
        "id": "8MZE5epYr59Y",
        "outputId": "907e1bdf-a8c3-4faf-fa0b-fc70cba2b282"
      },
      "execution_count": null,
      "outputs": [
        {
          "output_type": "display_data",
          "data": {
            "text/plain": [
              "<Figure size 432x288 with 2 Axes>"
            ],
            "image/png": "[encoded data removed]"
          },
          "metadata": {
            "needs_background": "light"
          }
        }
      ]
    },
    {
      "cell_type": "code",
      "source": [
        "# plot the confusion matrix of XG Boost \n",
        "sns.heatmap(cm_xgb, annot=True, fmt=\"d\", cmap=\"YlGnBu\")\n",
        "plt.xlabel(\"Predicted Label\")\n",
        "plt.ylabel(\"True Label\")\n",
        "plt.title(\"Confusion Matrix of XG Boost model\")\n",
        "plt.show()"
      ],
      "metadata": {
        "colab": {
          "base_uri": "https://localhost:8080/",
          "height": 295
        },
        "id": "N9h2DsxLyBuo",
        "outputId": "d9853e44-c3b1-4653-9ddb-7bf12a6904b2"
      },
      "execution_count": null,
      "outputs": [
        {
          "output_type": "display_data",
          "data": {
            "text/plain": [
              "<Figure size 432x288 with 2 Axes>"
            ],
            "image/png": "[encoded data removed]"
          },
          "metadata": {
            "needs_background": "light"
          }
        }
      ]
    },
    {
      "cell_type": "markdown",
      "source": [
        "**Analysing the models**\n",
        "- Number of valid transaction labelled as fraudulent by Random Forest : 0\n",
        "- Number of valid transaction labelled as fraudulent by XGB : 250\n",
        "\n",
        "\n",
        "\n",
        "- Number of fraud transactions labelled as valid by Random Forest : 11\n",
        "- Number of fraud transactions labelled as valid by XGB : 9\n",
        "\n",
        "\n",
        "On the basis on limiting the number of valid transactions labelled as fraudulent, the Random Forest performed better.\n",
        "While in the case of limiting the number of fraudulent transactions labelled as fraudulent, XGB performed better.\n",
        "\n",
        "- On the recall scores for both models are identical. For both precision and f1-score. This means that there are considerably less false positives in Random Forest model.\n",
        "\n",
        "Based on the precision, recall, and F1-score metrics for the two algorithms, and takes into account the trade-off between detecting as many fraudulent transactions as possible while also ensuring that valid transactions are not misclassified as fraudulent. The metrics show that the Random Forest has a higher precision and recall, meaning that it correctly classifies a higher proportion of both valid and fraudulent transactions compared to XG Boost. So from my side I think Random Forest performed well and I will took that model."
      ],
      "metadata": {
        "id": "WPyLzIQ4yzQk"
      }
    },
    {
      "cell_type": "markdown",
      "source": [
        "In this fraud detection problem, two machine learning algorithms were employed - Random Forest and XG Boost. After evaluating their performance, it was found that Random Forest outperformed XG Boost.\n",
        "\n",
        "Random Forest is a powerful and popular machine learning technique that belongs to the ensemble learning family. It involves building multiple decision trees and combining their predictions to make a final decision. The process starts by bootstrapping the dataset, i.e. creating multiple samples from the original data by randomly selecting data points with replacement. Then, a decision tree is trained on each of these samples. The final prediction is made by aggregating the predictions of all decision trees.\n",
        "\n",
        "In this fraud detection problem, the Random Forest algorithm was initialized with the following hyperparameters:\n",
        "\n",
        "- n_estimators: 15 (The number of decision trees to build).\n",
        "- oob_score: True (A Boolean indicating whether to use out-of-bag samples to estimate the generalization accuracy).\n",
        "- class_weight: balanced (A string or a dictionary indicating the weight of each class. The class_weight parameter was set to 'balanced' to account for the class imbalance in the dataset).\n",
        "- n_jobs: -1 (The number of CPU cores to use for parallel computation. The n_jobs parameter was set to -1 to use all available CPU cores).\n",
        "- random_state: 42 (A random seed for reproducibility).\n",
        "\n",
        "The performance of the Random Forest algorithm was evaluated using various evaluation metrics. The confusion matrix showed that out of 1908786 transactions, 1906322 were correctly classified as valid and 11 were incorrectly classified as fraudulent. Similarly, 2453 transactions were correctly classified as fraudulent and 9 were incorrectly classified as valid.\n",
        "\n",
        "The classification report showed that the precision, recall, and f1-score for class 0 (valid transactions) were 1.00, and the precision, recall, and f1-score for class 1 (fraudulent transactions) were also 1.00. This indicates that the algorithm made no false positive (valid transactions labelled as fraudulent) and no false negative (fraudulent transactions labelled as valid) predictions.\n",
        "\n",
        "The accuracy score was 0.9999942371748326, which is a measure of how well the algorithm performed in general.\n",
        "\n",
        "In conclusion, the Random Forest algorithm was an effective and accurate solution for this fraud detection problem, as it correctly classified all transactions and made no false predictions.\n",
        "\n",
        "\n",
        "\n"
      ],
      "metadata": {
        "id": "Gr5dhamv42U_"
      }
    },
    {
      "cell_type": "markdown",
      "source": [
        "### Features used for this problem"
      ],
      "metadata": {
        "id": "gvqsPnGGB9e_"
      }
    },
    {
      "cell_type": "markdown",
      "source": [
        "During the exploratory data analysis (EDA) phase, I carefully analyzed the variables in the data set. I dropped variables that were found to be irrelevant to the problem and created new features, such as errorBalanceOrg, errorBalanceDest, and hoursofDay. The insight from this analysis showed that many fraudulent transactions were found where errorBalanceDest was greater than 0, while valid transactions were found more often when errorBalanceDest was less than or equal to 0. The data also revealed that a large proportion of fraudulent transactions had an error of 0 or close to zero, while a large proportion of valid transactions had large errors.\n",
        "\n",
        "I also observed that fraud transactions only occurred when the transaction type was TRANSFER or CASH_OUT, and that there were a large number of valid transactions between hours 10 to 24, while fraud transactions were almost equally distributed throughout the day. The correlation analysis indicated that there was a strong relationship between original and destination account balances before and after a transaction, and that the transaction amount had a significant effect on the destination account balance. Finally, isFraud had a weak positive correlation with the transaction amount, and a weak negative correlation with oldbalanceOrg, newbalanceOrig, and oldbalanceDest. Based on these findings, I included these variables in the model to improve its performance."
      ],
      "metadata": {
        "id": "S9YW-bPGFFjM"
      }
    },
    {
      "cell_type": "code",
      "source": [
        "x = np.arange(len(X.columns))\n",
        "\n",
        "# important features\n",
        "importances = random_forest.feature_importances_\n",
        "\n",
        "sort_ind = np.argsort(importances)[::-1]\n",
        "plt.figure(figsize=(21,7))\n",
        "plt.bar(x, importances[sort_ind])\n",
        "plt.xticks(x,tuple(X.columns.values[sort_ind]))\n",
        "plt.title(\"Important Features\")\n",
        "plt.show()"
      ],
      "metadata": {
        "colab": {
          "base_uri": "https://localhost:8080/",
          "height": 445
        },
        "id": "BjZwuET45LxW",
        "outputId": "9972a8a1-4674-4012-bda3-ea06182e7012"
      },
      "execution_count": null,
      "outputs": [
        {
          "output_type": "display_data",
          "data": {
            "text/plain": [
              "<Figure size 1512x504 with 1 Axes>"
            ],
            "image/png": "[encoded data removed]"
          },
          "metadata": {
            "needs_background": "light"
          }
        }
      ]
    },
    {
      "cell_type": "markdown",
      "source": [
        "So, based on the feature importance given, errorBalanceOrg is the most important factor in predicting fraudulent customers with a weight of 0.25. This feature represents the error in the balance amount of the account of the originator after payment.\n",
        "\n",
        "Next, the oldbalanceOrg feature is also crucial, with a weight of 0.21, as it represents the initial balance before the transaction. The newbalanceOrig feature, which represents the new balance after the transaction, also has a relatively lower weight of 0.10.\n",
        "\n",
        "The amount feature is also considered in the prediction with a weight of 0.08. This is the amount of the transaction in the local currency.\n",
        "\n",
        "The step feature, which maps a unit of time in the real world with 1 step being 1 hour, has a weight of 0.07 in the prediction.\n",
        "\n",
        "The type of transaction is also considered, with type_PAYMENT, type_CASHOUT, and type_TRANSFER having a relatively lower weight of 0.05, 0.04, and 0.04 respectively.\n",
        "\n",
        "Lastly, the hours of the day feature, which is a result of the splitting of steps into 24 hours per day, has a weight of 0.03 in the prediction.\n",
        "\n",
        "\n",
        "\n"
      ],
      "metadata": {
        "id": "fk73QFe1JOwr"
      }
    },
    {
      "cell_type": "markdown",
      "source": [
        "**Role of the important factors in this problem**"
      ],
      "metadata": {
        "id": "1uEUywAvJ1EO"
      }
    },
    {
      "cell_type": "markdown",
      "source": [
        "Yes, these factors make sense in predicting fraudulent transaction in the context of the problem.\n",
        "\n",
        "The factors with higher feature importance, such as amount (0.08), errorBalanceOrg (0.25), and oldbalanceOrg (0.21), can provide valuable information on the financial transactions of the customer and can help identify any unusual or suspicious activity. For example, a large amount of money being transferred with a significant error in the balance can indicate fraudulent behavior.\n",
        "\n",
        "Similarly, the type of transaction (type_PAYMENT, type_CASHOUT, type_TRANSFER) can also help in determining the nature of the transaction, which can be crucial in identifying any fraudulent activity. For example, a CASH-OUT type transaction, which involves withdrawing money from an account, can be a red flag for fraudulent activity, especially if the old balance is significantly different from the new balance after the transaction.\n",
        "\n",
        "However, some of the factors, such as step (0.07) and hours of day (0.03), may have less importance in predicting fraudulent customer behavior, as they may not directly impact the financial transactions."
      ],
      "metadata": {
        "id": "t-F5YbJgJmrX"
      }
    },
    {
      "cell_type": "markdown",
      "source": [
        "**The preventive mechanism that may helps**\n",
        "\n",
        "There are several preventative measures that a company should consider while updating its infrastructure.\n",
        "- Company should ensure that their data security measures are up-to-date and secure. This includes implementing proper access controls, such as two-factor authentication and data encryption, to prevent unauthorized access to sensitive information.\n",
        "\n",
        "- Consider implementing real-time monitoring and alerts for unusual activity in their transactions. This can help to quickly detect and respond to any potential fraud.\n",
        "\n",
        "- Regularly update and maintain the software and systems used to detect fraud. This includes implementing patches and fixes for any known vulnerabilities, as well as regularly testing and training the fraud detection models to improve their accuracy.\n",
        "\n",
        "- Integrating additional data sources, such as customer behavior and biometric data, to enhance the accuracy of their fraud detection models.\n",
        "\n",
        "- Should educate its employees and customers about the importance of fraud prevention and provide resources and guidelines to help them identify and report any suspicious activity.\n",
        "\n",
        "\n",
        "\n"
      ],
      "metadata": {
        "id": "5MNDpcQAKw8d"
      }
    },
    {
      "cell_type": "markdown",
      "source": [
        "**Eeffectiveness of the fraud prevention measures implemented during an infrastructure update**\n",
        "\n",
        "- The number of fraudulent transactions can be compared before and after the implementation of the prevention measures. If there is a significant decrease in the number of fraudulent incidents, it can be concluded that the measures are working.\n",
        "- This is the rate at which valid transactions are incorrectly identified as fraudulent. A low false positive rate indicates that the prevention measures are correctly identifying true fraud.\n",
        "- The satisfaction levels of customers can be measured to see if the implementation of the prevention measures is causing any inconvenience to them. If customer satisfaction remains high, it can be concluded that the measures are not causing any harm to the customer experience.\n",
        "- Regular monitoring of transactional data for anomalies can help determine if the fraud prevention measures are working as expected. If there are fewer anomalies detected, it can be concluded that the measures are working effectively."
      ],
      "metadata": {
        "id": "6US4MErOL-Uj"
      }
    },
    {
      "cell_type": "code",
      "source": [],
      "metadata": {
        "id": "hcJBkEw-Cr0D"
      },
      "execution_count": null,
      "outputs": []
    }
  ]
}